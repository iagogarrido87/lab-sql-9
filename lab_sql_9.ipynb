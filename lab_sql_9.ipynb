{
 "cells": [
  {
   "cell_type": "code",
   "execution_count": 1,
   "id": "1fd7ed1b",
   "metadata": {},
   "outputs": [],
   "source": [
    "import pymysql\n",
    "from sqlalchemy import create_engine\n",
    "import pandas as pd\n",
    "import getpass"
   ]
  },
  {
   "cell_type": "code",
   "execution_count": 2,
   "id": "7abbf82a",
   "metadata": {},
   "outputs": [
    {
     "name": "stdout",
     "output_type": "stream",
     "text": [
      "········\n"
     ]
    }
   ],
   "source": [
    "# Get the MySQL password securely\n",
    "password = getpass.getpass()"
   ]
  },
  {
   "cell_type": "code",
   "execution_count": 3,
   "id": "8522174f",
   "metadata": {},
   "outputs": [],
   "source": [
    "# Create the connection string\n",
    "connection_string = 'mysql+pymysql://root:' + password + '@localhost/sakila'"
   ]
  },
  {
   "cell_type": "code",
   "execution_count": 4,
   "id": "6f11285e",
   "metadata": {},
   "outputs": [],
   "source": [
    "# Create the engine\n",
    "engine = create_engine(connection_string)"
   ]
  },
  {
   "cell_type": "code",
   "execution_count": 5,
   "id": "667b8f50",
   "metadata": {},
   "outputs": [],
   "source": [
    "# Retrieve the number of rentals for each customer for May\n",
    "query_may = \"SELECT customer_id, COUNT(*) AS may_rental_count FROM rentals_may GROUP BY customer_id;\"\n",
    "df_may = pd.read_sql_query(query_may, engine)"
   ]
  },
  {
   "cell_type": "code",
   "execution_count": 6,
   "id": "e835af70",
   "metadata": {},
   "outputs": [
    {
     "name": "stdout",
     "output_type": "stream",
     "text": [
      "     customer_id  may_rental_count\n",
      "0            130                 8\n",
      "1            459                 2\n",
      "2            408                 6\n",
      "3            333                 2\n",
      "4            222                10\n",
      "..           ...               ...\n",
      "515          191                 4\n",
      "516          351                 2\n",
      "517           10                 2\n",
      "518          136                 2\n",
      "519           61                 2\n",
      "\n",
      "[520 rows x 2 columns]\n"
     ]
    }
   ],
   "source": [
    "print(df_may)"
   ]
  },
  {
   "cell_type": "code",
   "execution_count": 7,
   "id": "4ac828c1",
   "metadata": {},
   "outputs": [],
   "source": [
    "# Retrieve the number of rentals for each customer for June\n",
    "query_june = \"SELECT customer_id, COUNT(*) AS june_rental_count FROM rentals_june GROUP BY customer_id;\"\n",
    "df_june = pd.read_sql_query(query_june, engine)"
   ]
  },
  {
   "cell_type": "code",
   "execution_count": 8,
   "id": "f90be82e",
   "metadata": {},
   "outputs": [
    {
     "name": "stdout",
     "output_type": "stream",
     "text": [
      "     customer_id  june_rental_count\n",
      "0            416                 10\n",
      "1            516                 12\n",
      "2            239                 10\n",
      "3            285                  6\n",
      "4            310                 12\n",
      "..           ...                ...\n",
      "585          412                  2\n",
      "586          335                  2\n",
      "587          226                  4\n",
      "588           22                  2\n",
      "589          126                  2\n",
      "\n",
      "[590 rows x 2 columns]\n"
     ]
    }
   ],
   "source": [
    "print(df_june)"
   ]
  },
  {
   "cell_type": "code",
   "execution_count": 9,
   "id": "dbc5b2f4",
   "metadata": {},
   "outputs": [],
   "source": [
    "# Function to compare rentals in May and June\n",
    "def compare_rentals(may_rentals, june_rentals):\n",
    "    merged_df = pd.merge(may_rentals, june_rentals, on='customer_id', how='outer')\n",
    "    merged_df['comparison'] = merged_df['june_rental_count'] - merged_df['may_rental_count']\n",
    "    return merged_df"
   ]
  },
  {
   "cell_type": "code",
   "execution_count": 11,
   "id": "211690d2",
   "metadata": {},
   "outputs": [],
   "source": [
    "# Call the function to compare rentals\n",
    "comparison_df = compare_rentals(df_may, df_june)"
   ]
  },
  {
   "cell_type": "code",
   "execution_count": 12,
   "id": "67430211",
   "metadata": {},
   "outputs": [
    {
     "name": "stdout",
     "output_type": "stream",
     "text": [
      "Rental Comparison:\n",
      "     customer_id  may_rental_count  june_rental_count  comparison\n",
      "0            130               8.0               12.0         4.0\n",
      "1            459               2.0               14.0        12.0\n",
      "2            408               6.0                6.0         0.0\n",
      "3            333               2.0                8.0         6.0\n",
      "4            222              10.0                4.0        -6.0\n",
      "..           ...               ...                ...         ...\n",
      "593          598               NaN                2.0         NaN\n",
      "594          487               NaN                2.0         NaN\n",
      "595          555               NaN                2.0         NaN\n",
      "596          335               NaN                2.0         NaN\n",
      "597          226               NaN                4.0         NaN\n",
      "\n",
      "[598 rows x 4 columns]\n"
     ]
    }
   ],
   "source": [
    "# Print the comparison dataframe\n",
    "print(\"Rental Comparison:\")\n",
    "print(comparison_df)"
   ]
  },
  {
   "cell_type": "code",
   "execution_count": null,
   "id": "8d268847",
   "metadata": {},
   "outputs": [],
   "source": []
  }
 ],
 "metadata": {
  "kernelspec": {
   "display_name": "Python 3 (ipykernel)",
   "language": "python",
   "name": "python3"
  },
  "language_info": {
   "codemirror_mode": {
    "name": "ipython",
    "version": 3
   },
   "file_extension": ".py",
   "mimetype": "text/x-python",
   "name": "python",
   "nbconvert_exporter": "python",
   "pygments_lexer": "ipython3",
   "version": "3.9.13"
  }
 },
 "nbformat": 4,
 "nbformat_minor": 5
}
